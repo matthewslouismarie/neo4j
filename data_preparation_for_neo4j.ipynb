{
 "cells": [
  {
   "cell_type": "markdown",
   "metadata": {},
   "source": [
    "# Data Preparation for Neo4j"
   ]
  },
  {
   "cell_type": "code",
   "execution_count": 14,
   "metadata": {},
   "outputs": [],
   "source": [
    "import utils\n",
    "import pandas as pd"
   ]
  },
  {
   "cell_type": "markdown",
   "metadata": {},
   "source": [
    "We load our original JSON dataset and transform it the same way we did for the Cassandra database."
   ]
  },
  {
   "cell_type": "code",
   "execution_count": 15,
   "metadata": {},
   "outputs": [],
   "source": [
    "merged_df = utils.prepare_dataset(utils.DATASET_PATH)"
   ]
  },
  {
   "cell_type": "markdown",
   "metadata": {},
   "source": [
    "## Creating the nodes"
   ]
  },
  {
   "cell_type": "markdown",
   "metadata": {},
   "source": [
    "### Earthquakes"
   ]
  },
  {
   "cell_type": "code",
   "execution_count": 16,
   "metadata": {},
   "outputs": [],
   "source": [
    "# We first geolocations to a format Neo4j can understand\n",
    "merged_df['coordinates'] = merged_df['coordinates'].apply(lambda x: {'latitude': x[1], 'longitude': x[0], 'height': x[2]})"
   ]
  },
  {
   "cell_type": "code",
   "execution_count": 17,
   "metadata": {},
   "outputs": [],
   "source": [
    "# What appears in node is its first property, so we add a description for\n",
    "# each earthquake\n",
    "merged_df.insert(\n",
    "    loc=0,\n",
    "    column='description',\n",
    "    value=\"Mag \" + merged_df['mag'].astype(str) + \" in \" + merged_df['place'],\n",
    ")"
   ]
  },
  {
   "cell_type": "code",
   "execution_count": 18,
   "metadata": {},
   "outputs": [],
   "source": [
    "earthquakes_df = pd.DataFrame(\n",
    "    {\n",
    "        'id': merged_df['id'],\n",
    "        'type': 'node',\n",
    "        'properties': merged_df.to_dict(orient='records'),\n",
    "    },\n",
    ")\n",
    "\n",
    "earthquakes_df['labels'] = earthquakes_df.apply(lambda x: ['Earthquake'], axis=1)"
   ]
  },
  {
   "cell_type": "markdown",
   "metadata": {},
   "source": [
    "### Networks"
   ]
  },
  {
   "cell_type": "code",
   "execution_count": 19,
   "metadata": {},
   "outputs": [],
   "source": [
    "neo4j_networks = pd.DataFrame(\n",
    "    {\n",
    "        'type': 'node',\n",
    "        'labels' : 'Network',\n",
    "        'id': merged_df['net'].unique(),\n",
    "    }\n",
    ")\n",
    "\n",
    "neo4j_networks['labels'] = neo4j_networks['labels'].apply(lambda x: [x])"
   ]
  },
  {
   "cell_type": "markdown",
   "metadata": {},
   "source": [
    "## Creating the relationships"
   ]
  },
  {
   "cell_type": "markdown",
   "metadata": {},
   "source": [
    "### `RECORDED_BY` relationship (between an earthquake and its source network)"
   ]
  },
  {
   "cell_type": "code",
   "execution_count": 20,
   "metadata": {},
   "outputs": [],
   "source": [
    "relationships_df = pd.DataFrame({\n",
    "    'type': 'relationship',\n",
    "    'label': 'RECORDED_BY',\n",
    "    'start': merged_df['id'],\n",
    "    'end': merged_df['net'],\n",
    "})"
   ]
  },
  {
   "cell_type": "markdown",
   "metadata": {},
   "source": [
    "The ID of the earthquake is always included in `ids`, as shown by the empty\n",
    "list returned by the following:"
   ]
  },
  {
   "cell_type": "code",
   "execution_count": 21,
   "metadata": {},
   "outputs": [
    {
     "data": {
      "text/html": [
       "<div>\n",
       "<style scoped>\n",
       "    .dataframe tbody tr th:only-of-type {\n",
       "        vertical-align: middle;\n",
       "    }\n",
       "\n",
       "    .dataframe tbody tr th {\n",
       "        vertical-align: top;\n",
       "    }\n",
       "\n",
       "    .dataframe thead th {\n",
       "        text-align: right;\n",
       "    }\n",
       "</style>\n",
       "<table border=\"1\" class=\"dataframe\">\n",
       "  <thead>\n",
       "    <tr style=\"text-align: right;\">\n",
       "      <th></th>\n",
       "      <th>description</th>\n",
       "      <th>id</th>\n",
       "      <th>mag</th>\n",
       "      <th>place</th>\n",
       "      <th>time</th>\n",
       "      <th>updated</th>\n",
       "      <th>url</th>\n",
       "      <th>detail</th>\n",
       "      <th>felt</th>\n",
       "      <th>cdi</th>\n",
       "      <th>...</th>\n",
       "      <th>ids</th>\n",
       "      <th>sources</th>\n",
       "      <th>types</th>\n",
       "      <th>nst</th>\n",
       "      <th>dmin</th>\n",
       "      <th>rms</th>\n",
       "      <th>gap</th>\n",
       "      <th>magtype</th>\n",
       "      <th>type</th>\n",
       "      <th>coordinates</th>\n",
       "    </tr>\n",
       "  </thead>\n",
       "  <tbody>\n",
       "  </tbody>\n",
       "</table>\n",
       "<p>0 rows × 27 columns</p>\n",
       "</div>"
      ],
      "text/plain": [
       "Empty DataFrame\n",
       "Columns: [description, id, mag, place, time, updated, url, detail, felt, cdi, mmi, alert, status, tsunami, sig, net, code, ids, sources, types, nst, dmin, rms, gap, magtype, type, coordinates]\n",
       "Index: []\n",
       "\n",
       "[0 rows x 27 columns]"
      ]
     },
     "execution_count": 21,
     "metadata": {},
     "output_type": "execute_result"
    }
   ],
   "source": [
    "merged_df[merged_df.apply(lambda x: len(x['ids']) == 1 and x['id'] != x['ids'][0], axis=1)]"
   ]
  },
  {
   "cell_type": "markdown",
   "metadata": {},
   "source": [
    "### `LINKED_TO` relationship (between earthquake and other earthquakes)"
   ]
  },
  {
   "cell_type": "markdown",
   "metadata": {},
   "source": [
    "We now create the `LINKED_TO` relationships. This creates a relationship between from any earthquake with an associated ID (in the `ids` property) different from its own, and the designated earthquake."
   ]
  },
  {
   "cell_type": "code",
   "execution_count": 22,
   "metadata": {},
   "outputs": [],
   "source": [
    "for index, row in merged_df[merged_df.apply(lambda x: len(x['ids']) > 1, axis=1)].iterrows():\n",
    "    for id in row['ids']:\n",
    "        # We verify the id is not the earthquake’s own ID\n",
    "        if id != row['id']:\n",
    "            # We create the relationship and add it to `relationships_df`\n",
    "            relationships_df = pd.concat([\n",
    "                relationships_df,\n",
    "                pd.DataFrame({\n",
    "                    'type': 'relationship',\n",
    "                    'label': 'LINKED_TO',\n",
    "                    'start': row['id'],\n",
    "                    'end': id,\n",
    "                }, index=range(1))\n",
    "            ], ignore_index=True)"
   ]
  },
  {
   "cell_type": "markdown",
   "metadata": {},
   "source": [
    "However, we notice all referenced earthquakes are not included in our original dataset."
   ]
  },
  {
   "cell_type": "markdown",
   "metadata": {},
   "source": [
    "### `ALSO_RECORDED_BY` relationship (for additional source networks)"
   ]
  },
  {
   "cell_type": "code",
   "execution_count": 23,
   "metadata": {},
   "outputs": [],
   "source": [
    "for index, row in merged_df[merged_df.apply(lambda x: len(x['sources']) > 1, axis=1)].iterrows():\n",
    "    for id in row['sources']:\n",
    "        # We verify the id is not the earthquake’s own ID\n",
    "        if id != row['net']:\n",
    "            # We create the relationship and add it to `relationships_df`\n",
    "            relationships_df = pd.concat([\n",
    "                relationships_df,\n",
    "                pd.DataFrame({\n",
    "                    'type': 'relationship',\n",
    "                    'label': 'ALSO_RECORDED_BY',\n",
    "                    'start': row['id'],\n",
    "                    'end': id,\n",
    "                }, index=range(1))\n",
    "            ], ignore_index=True)"
   ]
  },
  {
   "cell_type": "markdown",
   "metadata": {},
   "source": [
    "### Final processing for relationships"
   ]
  },
  {
   "cell_type": "code",
   "execution_count": 24,
   "metadata": {},
   "outputs": [],
   "source": [
    "# Finally, we apply the correct format for APOC, which requires `start` and\n",
    "# `end` to be structured like nodes, and we also add an `id` property.\n",
    "relationships_df['start'] = relationships_df['start'].apply(lambda x: {'id': x})\n",
    "relationships_df['end'] = relationships_df['end'].apply(lambda x: {'id': x})\n",
    "relationships_df['id'] = relationships_df.index"
   ]
  },
  {
   "cell_type": "code",
   "execution_count": 25,
   "metadata": {},
   "outputs": [
    {
     "data": {
      "text/html": [
       "<div>\n",
       "<style scoped>\n",
       "    .dataframe tbody tr th:only-of-type {\n",
       "        vertical-align: middle;\n",
       "    }\n",
       "\n",
       "    .dataframe tbody tr th {\n",
       "        vertical-align: top;\n",
       "    }\n",
       "\n",
       "    .dataframe thead th {\n",
       "        text-align: right;\n",
       "    }\n",
       "</style>\n",
       "<table border=\"1\" class=\"dataframe\">\n",
       "  <thead>\n",
       "    <tr style=\"text-align: right;\">\n",
       "      <th></th>\n",
       "      <th>type</th>\n",
       "      <th>label</th>\n",
       "      <th>start</th>\n",
       "      <th>end</th>\n",
       "      <th>id</th>\n",
       "    </tr>\n",
       "  </thead>\n",
       "  <tbody>\n",
       "    <tr>\n",
       "      <th>0</th>\n",
       "      <td>relationship</td>\n",
       "      <td>RECORDED_BY</td>\n",
       "      <td>{'id': 'nc72001620'}</td>\n",
       "      <td>{'id': 'nc'}</td>\n",
       "      <td>0</td>\n",
       "    </tr>\n",
       "    <tr>\n",
       "      <th>1</th>\n",
       "      <td>relationship</td>\n",
       "      <td>RECORDED_BY</td>\n",
       "      <td>{'id': 'nc72001615'}</td>\n",
       "      <td>{'id': 'nc'}</td>\n",
       "      <td>1</td>\n",
       "    </tr>\n",
       "    <tr>\n",
       "      <th>2</th>\n",
       "      <td>relationship</td>\n",
       "      <td>RECORDED_BY</td>\n",
       "      <td>{'id': 'ak10729211'}</td>\n",
       "      <td>{'id': 'ak'}</td>\n",
       "      <td>2</td>\n",
       "    </tr>\n",
       "    <tr>\n",
       "      <th>3</th>\n",
       "      <td>relationship</td>\n",
       "      <td>RECORDED_BY</td>\n",
       "      <td>{'id': 'nc72001605'}</td>\n",
       "      <td>{'id': 'nc'}</td>\n",
       "      <td>3</td>\n",
       "    </tr>\n",
       "    <tr>\n",
       "      <th>4</th>\n",
       "      <td>relationship</td>\n",
       "      <td>RECORDED_BY</td>\n",
       "      <td>{'id': 'ak10729207'}</td>\n",
       "      <td>{'id': 'ak'}</td>\n",
       "      <td>4</td>\n",
       "    </tr>\n",
       "    <tr>\n",
       "      <th>...</th>\n",
       "      <td>...</td>\n",
       "      <td>...</td>\n",
       "      <td>...</td>\n",
       "      <td>...</td>\n",
       "      <td>...</td>\n",
       "    </tr>\n",
       "    <tr>\n",
       "      <th>8183</th>\n",
       "      <td>relationship</td>\n",
       "      <td>ALSO_RECORDED_BY</td>\n",
       "      <td>{'id': 'us2013puch'}</td>\n",
       "      <td>{'id': 'ak'}</td>\n",
       "      <td>8183</td>\n",
       "    </tr>\n",
       "    <tr>\n",
       "      <th>8184</th>\n",
       "      <td>relationship</td>\n",
       "      <td>ALSO_RECORDED_BY</td>\n",
       "      <td>{'id': 'us2013puct'}</td>\n",
       "      <td>{'id': 'ak'}</td>\n",
       "      <td>8184</td>\n",
       "    </tr>\n",
       "    <tr>\n",
       "      <th>8185</th>\n",
       "      <td>relationship</td>\n",
       "      <td>ALSO_RECORDED_BY</td>\n",
       "      <td>{'id': 'us2013pucx'}</td>\n",
       "      <td>{'id': 'mb'}</td>\n",
       "      <td>8185</td>\n",
       "    </tr>\n",
       "    <tr>\n",
       "      <th>8186</th>\n",
       "      <td>relationship</td>\n",
       "      <td>ALSO_RECORDED_BY</td>\n",
       "      <td>{'id': 'ak10709403'}</td>\n",
       "      <td>{'id': 'us'}</td>\n",
       "      <td>8186</td>\n",
       "    </tr>\n",
       "    <tr>\n",
       "      <th>8187</th>\n",
       "      <td>relationship</td>\n",
       "      <td>ALSO_RECORDED_BY</td>\n",
       "      <td>{'id': 'ak10709386'}</td>\n",
       "      <td>{'id': 'us'}</td>\n",
       "      <td>8187</td>\n",
       "    </tr>\n",
       "  </tbody>\n",
       "</table>\n",
       "<p>8188 rows × 5 columns</p>\n",
       "</div>"
      ],
      "text/plain": [
       "              type             label                 start           end    id\n",
       "0     relationship       RECORDED_BY  {'id': 'nc72001620'}  {'id': 'nc'}     0\n",
       "1     relationship       RECORDED_BY  {'id': 'nc72001615'}  {'id': 'nc'}     1\n",
       "2     relationship       RECORDED_BY  {'id': 'ak10729211'}  {'id': 'ak'}     2\n",
       "3     relationship       RECORDED_BY  {'id': 'nc72001605'}  {'id': 'nc'}     3\n",
       "4     relationship       RECORDED_BY  {'id': 'ak10729207'}  {'id': 'ak'}     4\n",
       "...            ...               ...                   ...           ...   ...\n",
       "8183  relationship  ALSO_RECORDED_BY  {'id': 'us2013puch'}  {'id': 'ak'}  8183\n",
       "8184  relationship  ALSO_RECORDED_BY  {'id': 'us2013puct'}  {'id': 'ak'}  8184\n",
       "8185  relationship  ALSO_RECORDED_BY  {'id': 'us2013pucx'}  {'id': 'mb'}  8185\n",
       "8186  relationship  ALSO_RECORDED_BY  {'id': 'ak10709403'}  {'id': 'us'}  8186\n",
       "8187  relationship  ALSO_RECORDED_BY  {'id': 'ak10709386'}  {'id': 'us'}  8187\n",
       "\n",
       "[8188 rows x 5 columns]"
      ]
     },
     "execution_count": 25,
     "metadata": {},
     "output_type": "execute_result"
    }
   ],
   "source": [
    "relationships_df\n"
   ]
  },
  {
   "cell_type": "markdown",
   "metadata": {},
   "source": [
    "## Saving the DataFrames"
   ]
  },
  {
   "cell_type": "code",
   "execution_count": 26,
   "metadata": {},
   "outputs": [],
   "source": [
    "earthquakes_df.to_json('data/merged_df.jsonl', orient='records', lines=True)\n",
    "neo4j_networks.to_json('data/merged_df.jsonl', orient='records', lines=True, mode='a')\n",
    "relationships_df.to_json('data/merged_df.jsonl', orient='records', lines=True, mode='a')"
   ]
  }
 ],
 "metadata": {
  "kernelspec": {
   "display_name": "Python 3",
   "language": "python",
   "name": "python3"
  },
  "language_info": {
   "codemirror_mode": {
    "name": "ipython",
    "version": 3
   },
   "file_extension": ".py",
   "mimetype": "text/x-python",
   "name": "python",
   "nbconvert_exporter": "python",
   "pygments_lexer": "ipython3",
   "version": "3.12.9"
  }
 },
 "nbformat": 4,
 "nbformat_minor": 2
}
